{
 "cells": [
  {
   "cell_type": "markdown",
   "metadata": {},
   "source": [
    "# H SAF Surface Soil Moisture products\n",
    "## 1 Introduction\n",
    "The H SAF Surface Soil Moisture (SSM) products are available as:\n",
    "- **Near Real-Time (NRT) product** (approximately 130 minutes after sensing),\n",
    "- **Data Record (DR) product** (fixed start and end date),\n",
    "- **Offline product**, i.e. updated on a regular basis \n",
    "\n",
    "Products can be stand-alone or connected to each other, e.g.\n",
    "- NRT/Offline product is an extension of a DR\n",
    "- DR is reprocessed version of NRT/Offline product\n",
    "- Offline product is an improved (but delayed) version of NRT product"
   ]
  },
  {
   "cell_type": "markdown",
   "metadata": {},
   "source": [
    "### 1.1 ASCAT SSM NRT products\n",
    "The ASCAT SSM NRT products mainly differ in their spatial sampling and spatial resolution: \n",
    "- 12.5 km spatial sampling (25-34 km spatial resolution) (H16, H104),\n",
    "- 25 km spatial sampling (50 km spatial resolution) (H103, H105),\n",
    "- disaggregated at 0.5 km sampling (H08)."
   ]
  },
  {
   "cell_type": "markdown",
   "metadata": {},
   "source": [
    "### 1.1.1 ASCAT SSM NRT products sampled at 12.5 and 25 km\n",
    "\n",
    "#### Metop-A ASCAT SSM NRT products - DISCONTINUED - Metop-A Mission completed in Nov 2021\n",
    "* ~~ASCAT SSM NRT 12.5 km sampling - Metop-A (H101)~~\n",
    "* ~~ASCAT SSM NRT 25 km sampling - Metop-A (H102)~~\n",
    "\n",
    "#### Metop-B ASCAT SSM NRT products - OPERATIONAL\n",
    "* ASCAT SSM NRT 12.5 km sampling - Metop-B (H16)\n",
    "* ASCAT SSM NRT 25 km sampling - Metop-B (H103)\n",
    "\n",
    "#### Metop-C ASCAT SSM NRT products - DEMONSTRATIONAL\n",
    "* ASCAT SSM NRT 12.5 km sampling - Metop-C (H104)\n",
    "* ASCAT SSM NRT 25 km sampling - Metop-C (H105)"
   ]
  },
  {
   "cell_type": "markdown",
   "metadata": {},
   "source": [
    "### 1.1.2 ASCAT SSM NRT products sampled at 0.5 km\n",
    "\n",
    "#### Metop-B ASCAT SSM NRT products - OPERATIONAL\n",
    "* ASCAT DIS SSM NRT 1 km - Metop-B (H08)"
   ]
  },
  {
   "cell_type": "markdown",
   "metadata": {},
   "source": [
    "### 1.1.3 Upcoming SSM NRT products\n",
    "\n",
    "* Disaggregated ASCAT SSM NRT V2 0.5 km sampling (H28)\n",
    "* ASCAT SSM NRT 6.25 km sampling (H122)"
   ]
  },
  {
   "cell_type": "markdown",
   "metadata": {},
   "source": [
    "### 1.2 ASCAT SSM DR products and extensions \n",
    "Grid point locator: https://dgg.geo.tuwien.ac.at/.\n",
    "\n",
    "### 1.2.1 Latest available DR and DR extensions\n",
    "\n",
    "* ASCAT SSM DR v5 12.5 km - 2007-2018 (H115)\n",
    "* ASCAT SSM DR v5 EXT 12.5 km - 2019+ (H116)\n",
    "\n",
    "### 1.2.2 Future available DR and DR extensions\n",
    "\n",
    "* ASCAT SSM DR v7 12.5 km - 2007-2020 (H119)\n",
    "* ASCAT SSM DR v7 EXT 12.5 km - 2021+ (H120)\n",
    "* ASCAT SSM DR v8 12.5 km - 2007-2021 (H121)\n",
    "* ASCAT SSM DR v8 EXT 12.5 km - 2022+ (H139)"
   ]
  }
 ],
 "metadata": {
  "kernelspec": {
   "display_name": "Python 3",
   "language": "python",
   "name": "python3"
  },
  "language_info": {
   "codemirror_mode": {
    "name": "ipython",
    "version": 3
   },
   "file_extension": ".py",
   "mimetype": "text/x-python",
   "name": "python",
   "nbconvert_exporter": "python",
   "pygments_lexer": "ipython3",
   "version": "3.6.15"
  }
 },
 "nbformat": 4,
 "nbformat_minor": 2
}
